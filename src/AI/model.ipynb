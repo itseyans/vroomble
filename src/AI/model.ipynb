{
 "cells": [
  {
   "cell_type": "code",
   "execution_count": 1,
   "metadata": {},
   "outputs": [],
   "source": [
    "# AI Model Implementation in Jupyter Notebook\n",
    "\n",
    "## Cell 1: Import necessary libraries\n",
    "import pandas as pd\n",
    "import numpy as np\n",
    "import joblib  # For saving and loading the model\n",
    "from sklearn.linear_model import LinearRegression\n",
    "from sklearn.preprocessing import StandardScaler\n",
    "import matplotlib.pyplot as plt\n"
   ]
  },
  {
   "cell_type": "code",
   "execution_count": 2,
   "metadata": {},
   "outputs": [
    {
     "name": "stdout",
     "output_type": "stream",
     "text": [
      "✅ Car Model Data Preview:\n",
      "         Make     Model    Month  Base_Price_PHP  Monthly_Inflation_Rate\n",
      "0      Toyota      Vios  2023-01        700000.0                    0.05\n",
      "1      Toyota  Fortuner  2023-01       1800000.0                    0.05\n",
      "2       Honda     Civic  2023-01       1500000.0                    0.05\n",
      "3       Honda      CR-V  2023-01       1900000.0                    0.05\n",
      "4  Mitsubishi    Mirage  2023-01        600000.0                    0.05\n",
      "\n",
      "✅ Car Modifications Data Preview:\n",
      "     Make     Model    Month       Car_Part  Modification_Cost_PHP  \\\n",
      "0  Toyota      Vios  2023-01        Spoiler                15000.0   \n",
      "1  Toyota      Vios  2023-01       Body Kit                40000.0   \n",
      "2  Toyota      Vios  2023-01  Leather Seats                50000.0   \n",
      "3  Toyota  Fortuner  2023-01      Roof Rack                25000.0   \n",
      "4  Toyota  Fortuner  2023-01       Bull Bar                20000.0   \n",
      "\n",
      "   Monthly_Inflation_Rate  \n",
      "0                  0.0565  \n",
      "1                  0.0565  \n",
      "2                  0.0565  \n",
      "3                  0.0565  \n",
      "4                  0.0565  \n"
     ]
    }
   ],
   "source": [
    "## Cell 2: Load the updated dataset\n",
    "# Load the dataset from Excel file\n",
    "dataset_path = r\"C:\\Users\\HP\\Documents\\GitHub\\vroomble\\Vroomble Dataset\\vroomble_car_datasets.xlsx\"\n",
    "sheets = pd.read_excel(dataset_path, sheet_name=None)\n",
    "\n",
    "# Extract relevant sheets\n",
    "car_model_data = sheets[\"Car_Model\"]\n",
    "car_modifications_data = sheets[\"Car_Modifications\"]\n",
    "\n",
    "# Display first few rows to check if the dataset is loaded correctly\n",
    "print(\"✅ Car Model Data Preview:\")\n",
    "print(car_model_data.head())\n",
    "\n",
    "print(\"\\n✅ Car Modifications Data Preview:\")\n",
    "print(car_modifications_data.head())\n",
    "\n"
   ]
  },
  {
   "cell_type": "code",
   "execution_count": 3,
   "metadata": {},
   "outputs": [
    {
     "name": "stdout",
     "output_type": "stream",
     "text": [
      "✅ Training data prepared successfully!\n",
      "\n",
      "🔹 Sample Features (X): [[7.00000000e+05 5.29807076e+06 5.00000000e-02]\n",
      " [1.80000000e+06 5.29807081e+06 5.00000000e-02]\n",
      " [1.50000000e+06 6.05493806e+06 5.00000000e-02]\n",
      " [1.90000000e+06 2.37151739e+06 5.00000000e-02]\n",
      " [6.00000000e+05 2.62380648e+06 5.00000000e-02]]\n",
      "\n",
      "🔹 Sample Target (y): [5998070.76 7098070.81 7554938.06 4271517.39 3223806.48]\n"
     ]
    }
   ],
   "source": [
    "## Cell 3: Prepare training data for the AI model\n",
    "# Initialize empty lists for training data\n",
    "X = []  # Features (Base Price, Modification Costs, Inflation Rate)\n",
    "y = []  # Target (Predicted Price)\n",
    "\n",
    "# Iterate through car models\n",
    "for index, row in car_model_data.iterrows():\n",
    "    base_price = row[\"Base_Price_PHP\"]\n",
    "    inflation_rate = row[\"Monthly_Inflation_Rate\"]\n",
    "    \n",
    "    # Get modification costs for this model\n",
    "    modifications = car_modifications_data[car_modifications_data[\"Model\"] == row[\"Model\"]]\n",
    "    total_modification_cost = modifications[\"Modification_Cost_PHP\"].sum()\n",
    "    \n",
    "    # Append feature set and target value\n",
    "    X.append([base_price, total_modification_cost, inflation_rate])\n",
    "    y.append(base_price + total_modification_cost)\n",
    "\n",
    "# Convert to NumPy arrays\n",
    "X = np.array(X)\n",
    "y = np.array(y)\n",
    "\n",
    "print(\"✅ Training data prepared successfully!\")\n",
    "print(\"\\n🔹 Sample Features (X):\", X[:5])  # Show first 5 feature sets\n",
    "print(\"\\n🔹 Sample Target (y):\", y[:5])  # Show first 5 target values\n",
    "\n",
    "\n"
   ]
  },
  {
   "cell_type": "code",
   "execution_count": 4,
   "metadata": {},
   "outputs": [
    {
     "name": "stdout",
     "output_type": "stream",
     "text": [
      "✅ Model training completed!\n",
      "\n",
      "🔹 Intercept: 7067341.403749995\n",
      "\n",
      "🔹 Coefficients: [ 1.44072267e+06  1.94684149e+06 -2.32830644e-10]\n"
     ]
    }
   ],
   "source": [
    "## Cell 4: Convert to NumPy arrays and train the model\n",
    "# Normalize features using StandardScaler\n",
    "scaler = StandardScaler()\n",
    "X_scaled = scaler.fit_transform(X)\n",
    "\n",
    "# Train the model\n",
    "model = LinearRegression()\n",
    "model.fit(X_scaled, y)\n",
    "\n",
    "print(\"✅ Model training completed!\")\n",
    "print(\"\\n🔹 Intercept:\", model.intercept_)\n",
    "print(\"\\n🔹 Coefficients:\", model.coef_)\n",
    "\n"
   ]
  },
  {
   "cell_type": "code",
   "execution_count": 5,
   "metadata": {},
   "outputs": [
    {
     "name": "stdout",
     "output_type": "stream",
     "text": [
      "✅ Model and scaler saved successfully!\n"
     ]
    }
   ],
   "source": [
    "## Cell 5: Save the trained model and scaler for FastAPI backend usage\n",
    "# Save the trained model and scaler for FastAPI backend usage\n",
    "joblib.dump(model, \"trained_model.pkl\")\n",
    "joblib.dump(scaler, \"scaler.pkl\")\n",
    "\n",
    "print(\"✅ Model and scaler saved successfully!\")\n"
   ]
  },
  {
   "cell_type": "code",
   "execution_count": 6,
   "metadata": {},
   "outputs": [],
   "source": [
    "## Cell 6: Function to predict car price based on selected parts\n",
    "# Function to predict car price based on selected parts\n",
    "def predict_price(model_name, selected_parts, months=12):\n",
    "    available_models = car_model_data[\"Model\"].unique().tolist()\n",
    "\n",
    "    if model_name not in available_models:\n",
    "        print(f\"❌ Error: Model '{model_name}' not found.\")\n",
    "        return None\n",
    "\n",
    "    # Get car details (Base Price, Inflation, Maker)\n",
    "    base_price = car_model_data[car_model_data[\"Model\"] == model_name][\"Base_Price_PHP\"].values[0]\n",
    "    inflation_rate = car_model_data[car_model_data[\"Model\"] == model_name][\"Monthly_Inflation_Rate\"].values[0]\n",
    "    car_maker = car_model_data[car_model_data[\"Model\"] == model_name][\"Make\"].values[0]  # Get Car Maker\n",
    "\n",
    "    # Get modification costs for selected parts\n",
    "    modification_cost = car_modifications_data[(car_modifications_data[\"Model\"] == model_name) &\n",
    "                                               (car_modifications_data[\"Car_Part\"].isin(selected_parts))]\n",
    "    total_modification_cost = modification_cost[\"Modification_Cost_PHP\"].sum()\n",
    "\n",
    "    # Apply inflation over the specified months\n",
    "    future_inflation = (1 + inflation_rate) ** months\n",
    "    \n",
    "    # Scale the input features\n",
    "    scaled_features = scaler.transform([[base_price * future_inflation, total_modification_cost, inflation_rate]])\n",
    "    \n",
    "    # Predict price using trained model\n",
    "    predicted_price = model.predict(scaled_features)[0]\n",
    "\n",
    "    # Display full prediction results\n",
    "    result = {\n",
    "        \"Car Maker\": car_maker,  # ✅ Added Car Maker\n",
    "        \"Car Model\": model_name,\n",
    "        \"Selected Car Parts\": selected_parts,\n",
    "        \"Car Base Price (PHP)\": base_price,\n",
    "        \"Car Parts Price (PHP)\": total_modification_cost,\n",
    "        \"Current Total Price (PHP)\": base_price + total_modification_cost,\n",
    "        \"Predicted Total Price After {} Months (PHP)\".format(months): predicted_price\n",
    "    }\n",
    "    \n",
    "    print(\"\\n✅ Prediction Result:\")\n",
    "    for key, value in result.items():\n",
    "        print(f\"{key}: {value}\")\n",
    "    \n",
    "    return result\n",
    "\n",
    "\n"
   ]
  },
  {
   "cell_type": "code",
   "execution_count": 7,
   "metadata": {},
   "outputs": [
    {
     "name": "stdout",
     "output_type": "stream",
     "text": [
      "\n",
      "✅ Prediction Result:\n",
      "Car Maker: Toyota\n",
      "Car Model: Vios\n",
      "Selected Car Parts: ['Spoiler', 'Body Kit']\n",
      "Car Base Price (PHP): 700000.0\n",
      "Car Parts Price (PHP): 2775179.9400000004\n",
      "Current Total Price (PHP): 3475179.9400000004\n",
      "Predicted Total Price After 12 Months (PHP): 4032279.368215492\n"
     ]
    }
   ],
   "source": [
    "## Cell 7: Test the prediction function\n",
    "# Test the prediction function\n",
    "test_prediction = predict_price(\"Vios\", [\"Spoiler\", \"Body Kit\"], months=12)\n"
   ]
  }
 ],
 "metadata": {
  "kernelspec": {
   "display_name": "Python 3",
   "language": "python",
   "name": "python3"
  },
  "language_info": {
   "codemirror_mode": {
    "name": "ipython",
    "version": 3
   },
   "file_extension": ".py",
   "mimetype": "text/x-python",
   "name": "python",
   "nbconvert_exporter": "python",
   "pygments_lexer": "ipython3",
   "version": "3.13.2"
  }
 },
 "nbformat": 4,
 "nbformat_minor": 2
}
