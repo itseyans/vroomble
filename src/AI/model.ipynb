{
 "cells": [
  {
   "cell_type": "code",
   "execution_count": 35,
   "metadata": {},
   "outputs": [],
   "source": [
    "# AI Model Implementation in Jupyter Notebook\n",
    "\n",
    "## Cell 1: Import necessary libraries\n",
    "import pandas as pd\n",
    "import numpy as np\n",
    "import sqlite3\n",
    "import joblib\n",
    "from sklearn.linear_model import LinearRegression\n",
    "from sklearn.preprocessing import StandardScaler"
   ]
  },
  {
   "cell_type": "code",
   "execution_count": 36,
   "metadata": {},
   "outputs": [
    {
     "name": "stdout",
     "output_type": "stream",
     "text": [
      "Car Model Data:\n",
      "         Make     Model    Month  Base_Price_PHP  Monthly_Inflation_Rate\n",
      "0       Honda      CR-V  2024-03         2200000                    0.05\n",
      "1       Honda     Civic  2024-03         1600000                    0.05\n",
      "2        Ford   Everest  2024-03         2100000                    0.05\n",
      "3      Toyota  Fortuner  2024-03         1900000                    0.05\n",
      "4  Mitsubishi    Mirage  2024-03          800000                    0.05\n",
      "\n",
      "Car Modifications Data:\n",
      "    Make Model    Month Modification_Type  \\\n",
      "0  Honda  CR-V  2023-01     Street/Casual   \n",
      "1  Honda  CR-V  2023-01           Offroad   \n",
      "2  Honda  CR-V  2023-01           Offroad   \n",
      "3  Honda  CR-V  2023-01           Offroad   \n",
      "4  Honda  CR-V  2023-01           Offroad   \n",
      "\n",
      "                               Car_Part  Modification_Cost_PHP  \\\n",
      "0   Honda CR-V Chrome Door Handle Cover                   5000   \n",
      "1      Honda CR-V Heavy-Duty Skid Plate                  15000   \n",
      "2     Honda CR-V Off-Road Fender Flares                  12000   \n",
      "3  Honda CR-V Snorkel Air Intake System                  18000   \n",
      "4        Honda CR-V Suspension Lift Kit                  20000   \n",
      "\n",
      "   Monthly_Inflation_Rate  \n",
      "0                    0.05  \n",
      "1                    0.05  \n",
      "2                    0.05  \n",
      "3                    0.05  \n",
      "4                    0.05  \n"
     ]
    }
   ],
   "source": [
    "## Cell 2: Correctly connect to SQLite database and load data\n",
    "import sqlite3\n",
    "import pandas as pd\n",
    "\n",
    "# Absolute path to your SQLite database (copy this exactly)\n",
    "db_path = r\"C:\\Users\\HP\\Documents\\GitHub\\vroomble\\Vroomble Dataset\\prediction_database.db\"\n",
    "\n",
    "# Connect explicitly\n",
    "conn = sqlite3.connect(db_path)\n",
    "\n",
    "# Load data from SQLite tables into DataFrames\n",
    "car_model_data = pd.read_sql_query(\"SELECT * FROM Car_Model\", conn)\n",
    "car_modifications_data = pd.read_sql_query(\"SELECT * FROM Car_Modifications\", conn)\n",
    "\n",
    "# Verify loaded data\n",
    "print(\"Car Model Data:\")\n",
    "print(car_model_data.head())\n",
    "\n",
    "print(\"\\nCar Modifications Data:\")\n",
    "print(car_modifications_data.head())\n"
   ]
  },
  {
   "cell_type": "code",
   "execution_count": 37,
   "metadata": {},
   "outputs": [
    {
     "name": "stdout",
     "output_type": "stream",
     "text": [
      "Features (X): [[2.20e+06 4.98e+06 5.00e-02]\n",
      " [1.60e+06 4.98e+06 5.00e-02]\n",
      " [2.10e+06 4.98e+06 5.00e-02]\n",
      " [1.90e+06 4.98e+06 5.00e-02]\n",
      " [8.00e+05 4.98e+06 5.00e-02]]\n",
      "Target (y): [7180000 6580000 7080000 6880000 5780000]\n"
     ]
    }
   ],
   "source": [
    "# Cell 3: Prepare training data for the AI model\n",
    "\n",
    "# Initialize feature and target lists\n",
    "X = []  # Features: Base price, Modification Cost, Inflation rate\n",
    "y = []  # Target: Final Price\n",
    "\n",
    "# Iterate through each row to prepare the dataset\n",
    "for _, row in car_model_data.iterrows():\n",
    "    base_price = row[\"Base_Price_PHP\"]\n",
    "    inflation_rate = row[\"Monthly_Inflation_Rate\"]\n",
    "    \n",
    "    # Compute total modification cost for the model\n",
    "    modifications = car_modifications_data[\n",
    "        (car_modifications_data[\"Model\"] == row[\"Model\"])\n",
    "    ][\"Modification_Cost_PHP\"].sum()\n",
    "    \n",
    "    # Append features and target values\n",
    "    X.append([base_price, modifications, inflation_rate])\n",
    "    y.append(base_price + modifications)\n",
    "\n",
    "# Convert lists to NumPy arrays\n",
    "X = np.array(X)\n",
    "y = np.array(y)\n",
    "\n",
    "# Verify prepared data\n",
    "print(\"Features (X):\", X[:5])\n",
    "print(\"Target (y):\", y[:5])\n"
   ]
  },
  {
   "cell_type": "code",
   "execution_count": 38,
   "metadata": {},
   "outputs": [
    {
     "name": "stdout",
     "output_type": "stream",
     "text": [
      "Intercept: 2966009.6326530613\n",
      "Coefficients: [ 496837.14335995 1852526.7522453        0.        ]\n",
      "✅ Scaler and trained model saved successfully.\n"
     ]
    }
   ],
   "source": [
    "# Cell 4: Scale features, train Linear Regression model, and save scaler/model\n",
    "from sklearn.linear_model import LinearRegression\n",
    "from sklearn.preprocessing import StandardScaler\n",
    "import joblib\n",
    "\n",
    "# Scale features\n",
    "scaler = StandardScaler()\n",
    "X_scaled = scaler.fit_transform(X)\n",
    "\n",
    "# Train Linear Regression model\n",
    "model = LinearRegression()\n",
    "model.fit(X_scaled, y)\n",
    "\n",
    "# Output trained parameters\n",
    "print(\"Intercept:\", model.intercept_)\n",
    "print(\"Coefficients:\", model.coef_)\n",
    "\n",
    "# Save the scaler and trained model explicitly\n",
    "joblib.dump(scaler, 'scaler.pkl')\n",
    "joblib.dump(model, 'trained_model.pkl')\n",
    "\n",
    "print(\"✅ Scaler and trained model saved successfully.\")\n"
   ]
  },
  {
   "cell_type": "code",
   "execution_count": 39,
   "metadata": {},
   "outputs": [],
   "source": [
    "## Cell 5: Prediction function using the trained model\n",
    "def predict_price(make, model_name, modification_type, selected_parts, months=12):\n",
    "    # Fetch the base price and inflation rate\n",
    "    query_model = \"\"\"\n",
    "        SELECT Base_Price_PHP, Monthly_Inflation_Rate FROM Car_Model\n",
    "        WHERE Make = ? AND Model = ?\n",
    "    \"\"\"\n",
    "    car_info = pd.read_sql_query(query_model, conn, params=(make, model_name))\n",
    "\n",
    "    if car_info.empty:\n",
    "        print(f\"❌ Error: '{make} {model_name}' not found in database.\")\n",
    "        return None\n",
    "\n",
    "    base_price = car_info.iloc[0][\"Base_Price_PHP\"]\n",
    "    inflation_rate = car_info.iloc[0][\"Monthly_Inflation_Rate\"]\n",
    "\n",
    "    # Check if selected_parts is empty\n",
    "    if not selected_parts:\n",
    "        modification_cost = 0\n",
    "    else:\n",
    "        placeholders = ','.join('?' for _ in selected_parts)\n",
    "        query_mod = f\"\"\"\n",
    "            SELECT SUM(Modification_Cost_PHP) as total_mod_cost FROM Car_Modifications\n",
    "            WHERE Modification_Type = ?\n",
    "            AND Model = ?\n",
    "            AND Car_Part IN ({placeholders})\n",
    "        \"\"\"\n",
    "        params = [modification_type, model_name] + selected_parts\n",
    "        modification_cost_df = pd.read_sql_query(query_mod, conn, params=params)\n",
    "        \n",
    "        modification_cost = modification_cost_df.iloc[0]['total_mod_cost']\n",
    "\n",
    "        # Handle if no modifications found\n",
    "        if modification_cost is None:\n",
    "            print(\"⚠️ Warning: No matching modifications found. Defaulting modification cost to 0.\")\n",
    "            modification_cost = 0\n",
    "\n",
    "    # Inflation calculation\n",
    "    future_inflation = (1 + inflation_rate) ** months\n",
    "\n",
    "    # Load scaler and trained model\n",
    "    scaler = joblib.load('scaler.pkl')\n",
    "    model = joblib.load('trained_model.pkl')\n",
    "\n",
    "    # Scale inputs\n",
    "    features_scaled = scaler.transform([[base_price * future_inflation, modification_cost, inflation_rate]])\n",
    "\n",
    "    # Predict price\n",
    "    predicted_price = model.predict(features_scaled)[0]\n",
    "\n",
    "    # Display prediction result\n",
    "    result = {\n",
    "        \"Make\": make,\n",
    "        \"Model\": model_name,\n",
    "        \"Modification Type\": modification_type,\n",
    "        \"Selected Car Parts\": selected_parts,\n",
    "        \"Base Price (PHP)\": base_price,\n",
    "        \"Car Parts Cost (PHP)\": modification_cost,\n",
    "        \"Current Total Price (PHP)\": base_price + modification_cost,\n",
    "        f\"Predicted Price After {months} Months (PHP)\": predicted_price\n",
    "    }\n",
    "\n",
    "    for key, value in result.items():\n",
    "        print(f\"{key}: {value}\")\n",
    "\n",
    "    return result\n"
   ]
  },
  {
   "cell_type": "code",
   "execution_count": 40,
   "metadata": {},
   "outputs": [
    {
     "name": "stdout",
     "output_type": "stream",
     "text": [
      "Make: Toyota\n",
      "Model: Vios\n",
      "Modification Type: Street/Casual\n",
      "Selected Car Parts: ['Toyota Vios Trunk Lip Spoiler', 'Toyota Vios Chrome Door Handle Cover']\n",
      "Base Price (PHP): 750000.0\n",
      "Car Parts Cost (PHP): 276000\n",
      "Current Total Price (PHP): 1026000.0\n",
      "Predicted Price After 12 Months (PHP): 1622892.2445165974\n"
     ]
    }
   ],
   "source": [
    "## Cell 6: Function to predict car price based on selected parts\n",
    "# Example usage\n",
    "test_result = predict_price(\n",
    "    make='Toyota',\n",
    "    model_name='Vios',\n",
    "    modification_type='Street/Casual',\n",
    "    selected_parts=['Toyota Vios Trunk Lip Spoiler','Toyota Vios Chrome Door Handle Cover'],\n",
    "    months=12\n",
    ")\n",
    "\n"
   ]
  },
  {
   "cell_type": "code",
   "execution_count": 41,
   "metadata": {},
   "outputs": [],
   "source": [
    "conn.close()"
   ]
  }
 ],
 "metadata": {
  "kernelspec": {
   "display_name": "Python 3",
   "language": "python",
   "name": "python3"
  },
  "language_info": {
   "codemirror_mode": {
    "name": "ipython",
    "version": 3
   },
   "file_extension": ".py",
   "mimetype": "text/x-python",
   "name": "python",
   "nbconvert_exporter": "python",
   "pygments_lexer": "ipython3",
   "version": "3.13.2"
  }
 },
 "nbformat": 4,
 "nbformat_minor": 2
}
